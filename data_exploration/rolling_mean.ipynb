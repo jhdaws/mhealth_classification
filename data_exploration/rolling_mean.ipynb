{
  "cells": [
    {
      "cell_type": "markdown",
      "source": [
        "## 1) Loading Data and Packages + Util"
      ],
      "metadata": {
        "id": "DOHi9rC_lyB9"
      },
      "id": "DOHi9rC_lyB9"
    },
    {
      "cell_type": "code",
      "source": [
        "import os\n",
        "from google.colab import files\n",
        "import shutil\n",
        "\n",
        "import math\n",
        "from tqdm.notebook import tqdm\n",
        "import numpy as np\n",
        "import pandas as pd\n",
        "import matplotlib.pyplot as plt\n",
        "from typing_extensions import final\n",
        "import seaborn as sns\n",
        "import random\n",
        "\n",
        "from collections import OrderedDict"
      ],
      "metadata": {
        "id": "cl7o7im2Tye-"
      },
      "execution_count": 2,
      "outputs": [],
      "id": "cl7o7im2Tye-"
    },
    {
      "cell_type": "markdown",
      "source": [
        "Load data from local folder"
      ],
      "metadata": {
        "id": "hhAmrcwvOVV3"
      },
      "id": "hhAmrcwvOVV3"
    },
    {
      "cell_type": "code",
      "source": [
        "os.makedirs('/content/data', exist_ok=True)\n",
        "destination_folder = '/content/data'\n",
        "uploaded = files.upload()\n",
        "for filename in uploaded.keys():\n",
        "    shutil.move(filename, os.path.join(destination_folder, filename))"
      ],
      "metadata": {
        "colab": {
          "base_uri": "https://localhost:8080/",
          "height": 73
        },
        "id": "cGdPvmsNKuei",
        "outputId": "854c91f1-7b61-4a61-9f91-d9c25ef8b304"
      },
      "execution_count": 3,
      "outputs": [
        {
          "output_type": "display_data",
          "data": {
            "text/plain": [
              "<IPython.core.display.HTML object>"
            ],
            "text/html": [
              "\n",
              "     <input type=\"file\" id=\"files-e81dc5fc-4084-45f0-a8de-df8390fdfe3c\" name=\"files[]\" multiple disabled\n",
              "        style=\"border:none\" />\n",
              "     <output id=\"result-e81dc5fc-4084-45f0-a8de-df8390fdfe3c\">\n",
              "      Upload widget is only available when the cell has been executed in the\n",
              "      current browser session. Please rerun this cell to enable.\n",
              "      </output>\n",
              "      <script>// Copyright 2017 Google LLC\n",
              "//\n",
              "// Licensed under the Apache License, Version 2.0 (the \"License\");\n",
              "// you may not use this file except in compliance with the License.\n",
              "// You may obtain a copy of the License at\n",
              "//\n",
              "//      http://www.apache.org/licenses/LICENSE-2.0\n",
              "//\n",
              "// Unless required by applicable law or agreed to in writing, software\n",
              "// distributed under the License is distributed on an \"AS IS\" BASIS,\n",
              "// WITHOUT WARRANTIES OR CONDITIONS OF ANY KIND, either express or implied.\n",
              "// See the License for the specific language governing permissions and\n",
              "// limitations under the License.\n",
              "\n",
              "/**\n",
              " * @fileoverview Helpers for google.colab Python module.\n",
              " */\n",
              "(function(scope) {\n",
              "function span(text, styleAttributes = {}) {\n",
              "  const element = document.createElement('span');\n",
              "  element.textContent = text;\n",
              "  for (const key of Object.keys(styleAttributes)) {\n",
              "    element.style[key] = styleAttributes[key];\n",
              "  }\n",
              "  return element;\n",
              "}\n",
              "\n",
              "// Max number of bytes which will be uploaded at a time.\n",
              "const MAX_PAYLOAD_SIZE = 100 * 1024;\n",
              "\n",
              "function _uploadFiles(inputId, outputId) {\n",
              "  const steps = uploadFilesStep(inputId, outputId);\n",
              "  const outputElement = document.getElementById(outputId);\n",
              "  // Cache steps on the outputElement to make it available for the next call\n",
              "  // to uploadFilesContinue from Python.\n",
              "  outputElement.steps = steps;\n",
              "\n",
              "  return _uploadFilesContinue(outputId);\n",
              "}\n",
              "\n",
              "// This is roughly an async generator (not supported in the browser yet),\n",
              "// where there are multiple asynchronous steps and the Python side is going\n",
              "// to poll for completion of each step.\n",
              "// This uses a Promise to block the python side on completion of each step,\n",
              "// then passes the result of the previous step as the input to the next step.\n",
              "function _uploadFilesContinue(outputId) {\n",
              "  const outputElement = document.getElementById(outputId);\n",
              "  const steps = outputElement.steps;\n",
              "\n",
              "  const next = steps.next(outputElement.lastPromiseValue);\n",
              "  return Promise.resolve(next.value.promise).then((value) => {\n",
              "    // Cache the last promise value to make it available to the next\n",
              "    // step of the generator.\n",
              "    outputElement.lastPromiseValue = value;\n",
              "    return next.value.response;\n",
              "  });\n",
              "}\n",
              "\n",
              "/**\n",
              " * Generator function which is called between each async step of the upload\n",
              " * process.\n",
              " * @param {string} inputId Element ID of the input file picker element.\n",
              " * @param {string} outputId Element ID of the output display.\n",
              " * @return {!Iterable<!Object>} Iterable of next steps.\n",
              " */\n",
              "function* uploadFilesStep(inputId, outputId) {\n",
              "  const inputElement = document.getElementById(inputId);\n",
              "  inputElement.disabled = false;\n",
              "\n",
              "  const outputElement = document.getElementById(outputId);\n",
              "  outputElement.innerHTML = '';\n",
              "\n",
              "  const pickedPromise = new Promise((resolve) => {\n",
              "    inputElement.addEventListener('change', (e) => {\n",
              "      resolve(e.target.files);\n",
              "    });\n",
              "  });\n",
              "\n",
              "  const cancel = document.createElement('button');\n",
              "  inputElement.parentElement.appendChild(cancel);\n",
              "  cancel.textContent = 'Cancel upload';\n",
              "  const cancelPromise = new Promise((resolve) => {\n",
              "    cancel.onclick = () => {\n",
              "      resolve(null);\n",
              "    };\n",
              "  });\n",
              "\n",
              "  // Wait for the user to pick the files.\n",
              "  const files = yield {\n",
              "    promise: Promise.race([pickedPromise, cancelPromise]),\n",
              "    response: {\n",
              "      action: 'starting',\n",
              "    }\n",
              "  };\n",
              "\n",
              "  cancel.remove();\n",
              "\n",
              "  // Disable the input element since further picks are not allowed.\n",
              "  inputElement.disabled = true;\n",
              "\n",
              "  if (!files) {\n",
              "    return {\n",
              "      response: {\n",
              "        action: 'complete',\n",
              "      }\n",
              "    };\n",
              "  }\n",
              "\n",
              "  for (const file of files) {\n",
              "    const li = document.createElement('li');\n",
              "    li.append(span(file.name, {fontWeight: 'bold'}));\n",
              "    li.append(span(\n",
              "        `(${file.type || 'n/a'}) - ${file.size} bytes, ` +\n",
              "        `last modified: ${\n",
              "            file.lastModifiedDate ? file.lastModifiedDate.toLocaleDateString() :\n",
              "                                    'n/a'} - `));\n",
              "    const percent = span('0% done');\n",
              "    li.appendChild(percent);\n",
              "\n",
              "    outputElement.appendChild(li);\n",
              "\n",
              "    const fileDataPromise = new Promise((resolve) => {\n",
              "      const reader = new FileReader();\n",
              "      reader.onload = (e) => {\n",
              "        resolve(e.target.result);\n",
              "      };\n",
              "      reader.readAsArrayBuffer(file);\n",
              "    });\n",
              "    // Wait for the data to be ready.\n",
              "    let fileData = yield {\n",
              "      promise: fileDataPromise,\n",
              "      response: {\n",
              "        action: 'continue',\n",
              "      }\n",
              "    };\n",
              "\n",
              "    // Use a chunked sending to avoid message size limits. See b/62115660.\n",
              "    let position = 0;\n",
              "    do {\n",
              "      const length = Math.min(fileData.byteLength - position, MAX_PAYLOAD_SIZE);\n",
              "      const chunk = new Uint8Array(fileData, position, length);\n",
              "      position += length;\n",
              "\n",
              "      const base64 = btoa(String.fromCharCode.apply(null, chunk));\n",
              "      yield {\n",
              "        response: {\n",
              "          action: 'append',\n",
              "          file: file.name,\n",
              "          data: base64,\n",
              "        },\n",
              "      };\n",
              "\n",
              "      let percentDone = fileData.byteLength === 0 ?\n",
              "          100 :\n",
              "          Math.round((position / fileData.byteLength) * 100);\n",
              "      percent.textContent = `${percentDone}% done`;\n",
              "\n",
              "    } while (position < fileData.byteLength);\n",
              "  }\n",
              "\n",
              "  // All done.\n",
              "  yield {\n",
              "    response: {\n",
              "      action: 'complete',\n",
              "    }\n",
              "  };\n",
              "}\n",
              "\n",
              "scope.google = scope.google || {};\n",
              "scope.google.colab = scope.google.colab || {};\n",
              "scope.google.colab._files = {\n",
              "  _uploadFiles,\n",
              "  _uploadFilesContinue,\n",
              "};\n",
              "})(self);\n",
              "</script> "
            ]
          },
          "metadata": {}
        },
        {
          "output_type": "stream",
          "name": "stdout",
          "text": [
            "Saving full_fb_data.csv to full_fb_data.csv\n"
          ]
        }
      ],
      "id": "cGdPvmsNKuei"
    },
    {
      "cell_type": "markdown",
      "source": [
        "Setup fitbit_data"
      ],
      "metadata": {
        "id": "stDNH0lLOZ2T"
      },
      "id": "stDNH0lLOZ2T"
    },
    {
      "cell_type": "code",
      "source": [
        "full_fb_data = pd.read_csv('/content/data/full_fb_data.csv')"
      ],
      "metadata": {
        "id": "KWARIyPENzjG"
      },
      "execution_count": 4,
      "outputs": [],
      "id": "KWARIyPENzjG"
    },
    {
      "cell_type": "code",
      "source": [
        "survey_features = ['diet', 'medication', 'symptoms']"
      ],
      "metadata": {
        "id": "C0KETOFwLB6j"
      },
      "id": "C0KETOFwLB6j",
      "execution_count": 5,
      "outputs": []
    },
    {
      "cell_type": "code",
      "source": [
        "full_fb_data['date'] = pd.to_datetime(full_fb_data['date'])\n",
        "full_fb_data = full_fb_data.sort_values(by=['fitbit_user_id', 'date'])\n",
        "\n",
        "# Shift survey columns\n",
        "for col in survey_features:\n",
        "  full_fb_data[col] = full_fb_data.groupby('fitbit_user_id')[col].shift(-1)\n",
        "\n",
        "# Set remaining nan visit columns to 0\n",
        "full_fb_data['visit_day'] = full_fb_data['visit_day'].fillna(0)"
      ],
      "metadata": {
        "id": "6pDFXCtGA9bH"
      },
      "execution_count": 6,
      "outputs": [],
      "id": "6pDFXCtGA9bH"
    },
    {
      "cell_type": "code",
      "source": [
        "full_fb_data['has_visit'] = 0\n",
        "\n",
        "for user_id, group in full_fb_data.groupby('fitbit_user_id'):\n",
        "    if group['visit_day'].sum() != 0:\n",
        "        full_fb_data.loc[group.index, 'has_visit'] = 1"
      ],
      "metadata": {
        "id": "ADBgADeBN43m"
      },
      "execution_count": 7,
      "outputs": [],
      "id": "ADBgADeBN43m"
    },
    {
      "cell_type": "code",
      "source": [
        "def extract_days_before_visit(df):\n",
        "    output_rows = []\n",
        "\n",
        "    for user_id, group in df.groupby('fitbit_user_id'):\n",
        "        group = group.reset_index(drop=True)\n",
        "        visit_indices = group.index[group['visit_day'] == 1].tolist()\n",
        "\n",
        "        if not visit_indices:\n",
        "            continue  # Skip users with no visits\n",
        "\n",
        "        first_visit_idx = visit_indices[0]\n",
        "        visit_day = group.loc[first_visit_idx, 'days']\n",
        "\n",
        "        # Get all days before the first visit (exclude visit day itself)\n",
        "        pre_visit_data = group[group['days'] < visit_day].copy()\n",
        "\n",
        "        # Add relative day to visit\n",
        "        pre_visit_data['days_to_visit'] = pre_visit_data['days'] - visit_day\n",
        "        pre_visit_data['fitbit_user_id'] = user_id\n",
        "\n",
        "        output_rows.append(pre_visit_data)\n",
        "\n",
        "    result_df = pd.concat(output_rows, axis=0).reset_index(drop=True)\n",
        "\n",
        "    return result_df"
      ],
      "metadata": {
        "id": "hh1ZFNIlMcV3"
      },
      "id": "hh1ZFNIlMcV3",
      "execution_count": 8,
      "outputs": []
    },
    {
      "cell_type": "code",
      "source": [
        "visit_df = extract_days_before_visit(full_fb_data)\n",
        "no_visit_df = full_fb_data[full_fb_data['has_visit'] == 0]"
      ],
      "metadata": {
        "id": "VRPN3Q9yNpkZ"
      },
      "id": "VRPN3Q9yNpkZ",
      "execution_count": 9,
      "outputs": []
    }
  ],
  "metadata": {
    "language_info": {
      "name": "python"
    },
    "colab": {
      "provenance": []
    },
    "kernelspec": {
      "name": "python3",
      "display_name": "Python 3"
    }
  },
  "nbformat": 4,
  "nbformat_minor": 5
}