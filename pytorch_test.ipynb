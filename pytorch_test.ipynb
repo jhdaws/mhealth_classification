{
  "cells": [
    {
      "cell_type": "markdown",
      "source": [
        "learning pytorch"
      ],
      "metadata": {
        "id": "hKR05jkxNyf4"
      },
      "id": "hKR05jkxNyf4"
    },
    {
      "cell_type": "code",
      "execution_count": 1,
      "id": "222010e9",
      "metadata": {
        "id": "222010e9"
      },
      "outputs": [],
      "source": [
        "import torch #pytorch\n",
        "import torch.nn as nn #weights and biases\n",
        "import torch.nn.functional as F #activation function\n",
        "from torch.optim import SGD #stochastic gradient descent\n",
        "\n",
        "import matplotlib.pyplot as plt\n",
        "import seaborn as sns"
      ]
    },
    {
      "cell_type": "code",
      "source": [
        "class BasicNN(nn.Module):\n",
        "\n",
        "  def __init__(self):\n",
        "    super().__init__()\n",
        "    self.w00 = nn.Parameter(torch.tensor(1.7), requires_grad=False)\n",
        "    self.b00 = nn.Parameter(torch.tensor(-0.85), requires_grad=False)\n",
        "    self.w01 = nn.Parameter(torch.tensor(-40.8), requires_grad=False)\n",
        "\n",
        "    self.w10 = nn.Parameter(torch.tensor(12.6), requires_grad=False)\n",
        "    self.b10 = nn.Parameter(torch.tensor(0.0), requires_grad=False)\n",
        "    self.w11 = nn.Parameter(torch.tensor(2.7), requires_grad=False)\n",
        "\n",
        "    self.final_bias = nn.Parameter(torch.tensor(-16.), requires_grad=False)\n",
        "\n",
        "  def forward(self, input):\n",
        "    input_to_top_relu = input * self.w00 + self.b00\n",
        "    top_relu_output = F.relu(input_to_top_relu)\n",
        "    scaled_top_relu_output = top_relu_output * self.w01\n",
        "\n",
        "    input_to_bottom_relu = input * self.w10 + self.b10\n",
        "    bottom_relu_output = F.relu(input_to_bottom_relu)\n",
        "    scaled_bottom_relu_output = bottom_relu_output * self.w11\n",
        "\n",
        "    input_to_final_relu = scaled_top_relu_output + scaled_bottom_relu_output + self.final_bias\n",
        "    output = F.relu(input_to_final_relu)\n",
        "\n",
        "    return output"
      ],
      "metadata": {
        "id": "RP3eLYT5Q8tU"
      },
      "id": "RP3eLYT5Q8tU",
      "execution_count": 14,
      "outputs": []
    },
    {
      "cell_type": "code",
      "source": [
        "input_doses = torch.linspace(start = 0, end = 1, steps = 11)"
      ],
      "metadata": {
        "id": "1i8z_t-vTLBm"
      },
      "id": "1i8z_t-vTLBm",
      "execution_count": 3,
      "outputs": []
    },
    {
      "cell_type": "code",
      "source": [
        "input_doses"
      ],
      "metadata": {
        "id": "dVgTXR4NTXTj",
        "outputId": "8ae6d9d5-81d6-4e44-ebe6-c6787827e678",
        "colab": {
          "base_uri": "https://localhost:8080/"
        }
      },
      "id": "dVgTXR4NTXTj",
      "execution_count": 4,
      "outputs": [
        {
          "output_type": "execute_result",
          "data": {
            "text/plain": [
              "tensor([0.0000, 0.1000, 0.2000, 0.3000, 0.4000, 0.5000, 0.6000, 0.7000, 0.8000,\n",
              "        0.9000, 1.0000])"
            ]
          },
          "metadata": {},
          "execution_count": 4
        }
      ]
    },
    {
      "cell_type": "code",
      "source": [
        "model = BasicNN()"
      ],
      "metadata": {
        "id": "BCn47jZjTZc0"
      },
      "id": "BCn47jZjTZc0",
      "execution_count": 15,
      "outputs": []
    },
    {
      "cell_type": "code",
      "source": [
        "output_values = model(input_doses)"
      ],
      "metadata": {
        "id": "0jc_SJmTTgMj"
      },
      "id": "0jc_SJmTTgMj",
      "execution_count": 16,
      "outputs": []
    },
    {
      "cell_type": "code",
      "source": [
        "output_values"
      ],
      "metadata": {
        "colab": {
          "base_uri": "https://localhost:8080/"
        },
        "id": "agoDDgj3UYsX",
        "outputId": "d67a1d0f-d84e-4b46-e221-83661a49674c"
      },
      "id": "agoDDgj3UYsX",
      "execution_count": 17,
      "outputs": [
        {
          "output_type": "execute_result",
          "data": {
            "text/plain": [
              "tensor([0.0000, 0.0000, 0.0000, 0.0000, 0.0000, 1.0100, 0.0000, 0.0000, 0.0000,\n",
              "        0.0000, 0.0000])"
            ]
          },
          "metadata": {},
          "execution_count": 17
        }
      ]
    },
    {
      "cell_type": "code",
      "source": [
        "sns.set(style='whitegrid')\n",
        "sns.lineplot(x=input_doses,\n",
        "             y=output_values,\n",
        "             color='red',\n",
        "             linewidth=2.5)\n",
        "plt.ylabel('In')\n",
        "plt.xlabel('Out')"
      ],
      "metadata": {
        "colab": {
          "base_uri": "https://localhost:8080/",
          "height": 475
        },
        "id": "6XoSoy7BTjqF",
        "outputId": "37a3ac92-1f1b-4170-8e7f-83778951b493"
      },
      "id": "6XoSoy7BTjqF",
      "execution_count": 18,
      "outputs": [
        {
          "output_type": "execute_result",
          "data": {
            "text/plain": [
              "Text(0.5, 0, 'Out')"
            ]
          },
          "metadata": {},
          "execution_count": 18
        },
        {
          "output_type": "display_data",
          "data": {
            "text/plain": [
              "<Figure size 640x480 with 1 Axes>"
            ],
            "image/png": "[encoded data removed]"
          },
          "metadata": {}
        }
      ]
    },
    {
      "cell_type": "code",
      "source": [
        "class BasicNN_train(nn.Module):\n",
        "\n",
        "  def __init__(self):\n",
        "    super().__init__()\n",
        "    self.w00 = nn.Parameter(torch.tensor(1.7), requires_grad=False)\n",
        "    self.b00 = nn.Parameter(torch.tensor(-0.85), requires_grad=False)\n",
        "    self.w01 = nn.Parameter(torch.tensor(-40.8), requires_grad=False)\n",
        "\n",
        "    self.w10 = nn.Parameter(torch.tensor(12.6), requires_grad=False)\n",
        "    self.b10 = nn.Parameter(torch.tensor(0.0), requires_grad=False)\n",
        "    self.w11 = nn.Parameter(torch.tensor(2.7), requires_grad=False)\n",
        "\n",
        "    self.final_bias = nn.Parameter(torch.tensor(0.), requires_grad=True)\n",
        "\n",
        "  def forward(self, input):\n",
        "    input_to_top_relu = input * self.w00 + self.b00\n",
        "    top_relu_output = F.relu(input_to_top_relu)\n",
        "    scaled_top_relu_output = top_relu_output * self.w01\n",
        "\n",
        "    input_to_bottom_relu = input * self.w10 + self.b10\n",
        "    bottom_relu_output = F.relu(input_to_bottom_relu)\n",
        "    scaled_bottom_relu_output = bottom_relu_output * self.w11\n",
        "\n",
        "    input_to_final_relu = scaled_top_relu_output + scaled_bottom_relu_output + self.final_bias\n",
        "    output = F.relu(input_to_final_relu)\n",
        "\n",
        "    return output"
      ],
      "metadata": {
        "id": "RT3_N2ufWCiZ"
      },
      "id": "RT3_N2ufWCiZ",
      "execution_count": 36,
      "outputs": []
    },
    {
      "cell_type": "code",
      "source": [
        "model = BasicNN_train()"
      ],
      "metadata": {
        "id": "iIZMS20SWM-o"
      },
      "execution_count": 37,
      "outputs": [],
      "id": "iIZMS20SWM-o"
    },
    {
      "cell_type": "code",
      "source": [
        "output_values = model(input_doses)"
      ],
      "metadata": {
        "id": "-42hlZ2QWM-p"
      },
      "execution_count": 31,
      "outputs": [],
      "id": "-42hlZ2QWM-p"
    },
    {
      "cell_type": "code",
      "source": [
        "output_values"
      ],
      "metadata": {
        "outputId": "5eb80b91-03a8-429a-db9b-6f2624b95f2a",
        "colab": {
          "base_uri": "https://localhost:8080/"
        },
        "id": "ckC8Dx1uWM-p"
      },
      "execution_count": 32,
      "outputs": [
        {
          "output_type": "execute_result",
          "data": {
            "text/plain": [
              "tensor([ 0.0000,  3.4020,  6.8040, 10.2060, 13.6080, 17.0100, 13.4760,  9.9420,\n",
              "         6.4080,  2.8740,  0.0000], grad_fn=<ReluBackward0>)"
            ]
          },
          "metadata": {},
          "execution_count": 32
        }
      ],
      "id": "ckC8Dx1uWM-p"
    },
    {
      "cell_type": "code",
      "source": [
        "sns.set(style='whitegrid')\n",
        "sns.lineplot(x=input_doses,\n",
        "             y=output_values.detach(),\n",
        "             color='red',\n",
        "             linewidth=2.5)\n",
        "plt.ylabel('In')\n",
        "plt.xlabel('Out')"
      ],
      "metadata": {
        "outputId": "29bd628d-0a0d-4a13-bf08-a29ea8266767",
        "colab": {
          "base_uri": "https://localhost:8080/",
          "height": 475
        },
        "id": "8abcRjnVWM-p"
      },
      "execution_count": 33,
      "outputs": [
        {
          "output_type": "execute_result",
          "data": {
            "text/plain": [
              "Text(0.5, 0, 'Out')"
            ]
          },
          "metadata": {},
          "execution_count": 33
        },
        {
          "output_type": "display_data",
          "data": {
            "text/plain": [
              "<Figure size 640x480 with 1 Axes>"
            ],
            "image/png": "[encoded data removed]"
          },
          "metadata": {}
        }
      ],
      "id": "8abcRjnVWM-p"
    },
    {
      "cell_type": "markdown",
      "source": [
        "training data"
      ],
      "metadata": {
        "id": "X1GUBECDW0pq"
      },
      "id": "X1GUBECDW0pq"
    },
    {
      "cell_type": "code",
      "source": [
        "inputs = torch.tensor([0., 0.5, 1.])\n",
        "labels = torch.tensor([0., 1., 0.])"
      ],
      "metadata": {
        "id": "U4exj37SW1pc"
      },
      "id": "U4exj37SW1pc",
      "execution_count": 38,
      "outputs": []
    },
    {
      "cell_type": "code",
      "source": [
        "optimizer = SGD(model.parameters(), lr=0.1) # sgd optimizer, optimize model params where requires grad = true\n",
        "print('Final bias, before optimization: ' + str(model.final_bias.data) + '\\n')\n",
        "\n",
        "for epoch in range(100): # each time optimiaxtion code sees all training data -> epoch\n",
        "\n",
        "  total_loss = 0 # keep track of how well the model fits the data\n",
        "\n",
        "  for iter in range(len(inputs)): # goes through training data\n",
        "\n",
        "    input_i = inputs[iter] # input = dose\n",
        "    label_i = labels[iter] # lbel = effectiveness\n",
        "\n",
        "    output_i = model(input_i) # runs mdoel to get predicted output\n",
        "\n",
        "    loss = (label_i - output_i)**2 # calculate loss b/w predicted and actual (squared residual)\n",
        "\n",
        "    loss.backward() # derivative of loss function stuff (accumulates derivatives, makes things easier)\n",
        "\n",
        "    total_loss += float(loss)\n",
        "\n",
        "  if (total_loss < 0.0001):\n",
        "    print(\"Num steps: \" + str(epoch))\n",
        "    break\n",
        "\n",
        "  optimizer.step() # steps in correct direction, has access to derivative like backward\n",
        "  optimizer.zero_grad() # zeroes derivatives to clear accumulated derivatives from .backward\n",
        "\n",
        "  print(\"Step: \" + str(epoch) + \" Final Bias: \" + str(model.final_bias.data))\n",
        "\n",
        "print('Final bias, after optimization: ' + str(model.final_bias.data) + '\\n')"
      ],
      "metadata": {
        "id": "pbmzKy7aW_fp",
        "outputId": "7990147f-84a9-4601-9ec1-8bf2f6efe025",
        "colab": {
          "base_uri": "https://localhost:8080/"
        }
      },
      "id": "pbmzKy7aW_fp",
      "execution_count": 39,
      "outputs": [
        {
          "output_type": "stream",
          "name": "stdout",
          "text": [
            "Final bias, before optimization: tensor(0.)\n",
            "\n",
            "Step: 0 Final Bias: tensor(-3.2020)\n",
            "Step: 1 Final Bias: tensor(-5.7636)\n",
            "Step: 2 Final Bias: tensor(-7.8129)\n",
            "Step: 3 Final Bias: tensor(-9.4523)\n",
            "Step: 4 Final Bias: tensor(-10.7638)\n",
            "Step: 5 Final Bias: tensor(-11.8131)\n",
            "Step: 6 Final Bias: tensor(-12.6525)\n",
            "Step: 7 Final Bias: tensor(-13.3240)\n",
            "Step: 8 Final Bias: tensor(-13.8612)\n",
            "Step: 9 Final Bias: tensor(-14.2909)\n",
            "Step: 10 Final Bias: tensor(-14.6348)\n",
            "Step: 11 Final Bias: tensor(-14.9098)\n",
            "Step: 12 Final Bias: tensor(-15.1298)\n",
            "Step: 13 Final Bias: tensor(-15.3059)\n",
            "Step: 14 Final Bias: tensor(-15.4467)\n",
            "Step: 15 Final Bias: tensor(-15.5594)\n",
            "Step: 16 Final Bias: tensor(-15.6495)\n",
            "Step: 17 Final Bias: tensor(-15.7216)\n",
            "Step: 18 Final Bias: tensor(-15.7793)\n",
            "Step: 19 Final Bias: tensor(-15.8254)\n",
            "Step: 20 Final Bias: tensor(-15.8623)\n",
            "Step: 21 Final Bias: tensor(-15.8919)\n",
            "Step: 22 Final Bias: tensor(-15.9155)\n",
            "Step: 23 Final Bias: tensor(-15.9344)\n",
            "Step: 24 Final Bias: tensor(-15.9495)\n",
            "Step: 25 Final Bias: tensor(-15.9616)\n",
            "Step: 26 Final Bias: tensor(-15.9713)\n",
            "Step: 27 Final Bias: tensor(-15.9790)\n",
            "Step: 28 Final Bias: tensor(-15.9852)\n",
            "Step: 29 Final Bias: tensor(-15.9902)\n",
            "Step: 30 Final Bias: tensor(-15.9941)\n",
            "Step: 31 Final Bias: tensor(-15.9973)\n",
            "Step: 32 Final Bias: tensor(-15.9999)\n",
            "Step: 33 Final Bias: tensor(-16.0019)\n",
            "Num steps: 34\n",
            "Final bias, after optimization: tensor(-16.0019)\n",
            "\n"
          ]
        }
      ]
    },
    {
      "cell_type": "code",
      "source": [
        "output_values = model(input_doses)\n",
        "sns.set(style='whitegrid')\n",
        "sns.lineplot(x=input_doses,\n",
        "             y=output_values.detach(),\n",
        "             color='red',\n",
        "             linewidth=2.5)\n",
        "plt.ylabel('In')\n",
        "plt.xlabel('Out')"
      ],
      "metadata": {
        "id": "Y6ZjWOFgqD_t",
        "outputId": "03477b3d-549e-473f-9aea-8fa749911d91",
        "colab": {
          "base_uri": "https://localhost:8080/",
          "height": 475
        }
      },
      "id": "Y6ZjWOFgqD_t",
      "execution_count": 40,
      "outputs": [
        {
          "output_type": "execute_result",
          "data": {
            "text/plain": [
              "Text(0.5, 0, 'Out')"
            ]
          },
          "metadata": {},
          "execution_count": 40
        },
        {
          "output_type": "display_data",
          "data": {
            "text/plain": [
              "<Figure size 640x480 with 1 Axes>"
            ],
            "image/png": "[encoded data removed]"
          },
          "metadata": {}
        }
      ]
    }
  ],
  "metadata": {
    "language_info": {
      "name": "python"
    },
    "colab": {
      "provenance": []
    },
    "kernelspec": {
      "name": "python3",
      "display_name": "Python 3"
    }
  },
  "nbformat": 4,
  "nbformat_minor": 5
}