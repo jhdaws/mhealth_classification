{
  "cells": [
    {
      "cell_type": "markdown",
      "id": "11bf6511",
      "metadata": {
        "id": "11bf6511"
      },
      "source": [
        "# Split + Standardize"
      ]
    },
    {
      "cell_type": "markdown",
      "source": [
        "## 1) Loading Data and Packages"
      ],
      "metadata": {
        "id": "DOHi9rC_lyB9"
      },
      "id": "DOHi9rC_lyB9"
    },
    {
      "cell_type": "code",
      "source": [
        "import os\n",
        "from google.colab import files\n",
        "import shutil\n",
        "import pickle as pkl\n",
        "import random\n",
        "\n",
        "import math\n",
        "from tqdm.notebook import tqdm\n",
        "import numpy as np\n",
        "import pandas as pd\n",
        "import matplotlib.pyplot as plt\n",
        "import seaborn as sns\n",
        "\n",
        "from sklearn.preprocessing import StandardScaler\n",
        "from sklearn.model_selection import train_test_split"
      ],
      "metadata": {
        "id": "RmMoXu95AI0-"
      },
      "execution_count": 25,
      "outputs": [],
      "id": "RmMoXu95AI0-"
    },
    {
      "cell_type": "code",
      "source": [
        "def save_pkl(data, save_path):\n",
        "    with open(save_path, \"wb\") as f:\n",
        "        pkl.dump(data, f)\n",
        "\n",
        "def load_pkl(file_path):\n",
        "    with open(file_path,'rb') as f:\n",
        "        data = pkl.load(f)\n",
        "    return data"
      ],
      "metadata": {
        "id": "Vme9-MtIhkJf"
      },
      "id": "Vme9-MtIhkJf",
      "execution_count": 5,
      "outputs": []
    },
    {
      "cell_type": "markdown",
      "source": [
        "Load data from local folder"
      ],
      "metadata": {
        "id": "hhAmrcwvOVV3"
      },
      "id": "hhAmrcwvOVV3"
    },
    {
      "cell_type": "code",
      "source": [
        "os.makedirs('/content/data', exist_ok=True)\n",
        "destination_folder = '/content/data'\n",
        "uploaded = files.upload()\n",
        "for filename in uploaded.keys():\n",
        "    shutil.move(filename, os.path.join(destination_folder, filename))"
      ],
      "metadata": {
        "colab": {
          "base_uri": "https://localhost:8080/",
          "height": 316
        },
        "id": "cGdPvmsNKuei",
        "outputId": "cb68a278-81d0-42cd-c316-0138e8583cd8"
      },
      "execution_count": 43,
      "outputs": [
        {
          "output_type": "display_data",
          "data": {
            "text/plain": [
              "<IPython.core.display.HTML object>"
            ],
            "text/html": [
              "\n",
              "     <input type=\"file\" id=\"files-d593ee5b-8bd1-4cdf-b15f-5181bba418b2\" name=\"files[]\" multiple disabled\n",
              "        style=\"border:none\" />\n",
              "     <output id=\"result-d593ee5b-8bd1-4cdf-b15f-5181bba418b2\">\n",
              "      Upload widget is only available when the cell has been executed in the\n",
              "      current browser session. Please rerun this cell to enable.\n",
              "      </output>\n",
              "      <script>// Copyright 2017 Google LLC\n",
              "//\n",
              "// Licensed under the Apache License, Version 2.0 (the \"License\");\n",
              "// you may not use this file except in compliance with the License.\n",
              "// You may obtain a copy of the License at\n",
              "//\n",
              "//      http://www.apache.org/licenses/LICENSE-2.0\n",
              "//\n",
              "// Unless required by applicable law or agreed to in writing, software\n",
              "// distributed under the License is distributed on an \"AS IS\" BASIS,\n",
              "// WITHOUT WARRANTIES OR CONDITIONS OF ANY KIND, either express or implied.\n",
              "// See the License for the specific language governing permissions and\n",
              "// limitations under the License.\n",
              "\n",
              "/**\n",
              " * @fileoverview Helpers for google.colab Python module.\n",
              " */\n",
              "(function(scope) {\n",
              "function span(text, styleAttributes = {}) {\n",
              "  const element = document.createElement('span');\n",
              "  element.textContent = text;\n",
              "  for (const key of Object.keys(styleAttributes)) {\n",
              "    element.style[key] = styleAttributes[key];\n",
              "  }\n",
              "  return element;\n",
              "}\n",
              "\n",
              "// Max number of bytes which will be uploaded at a time.\n",
              "const MAX_PAYLOAD_SIZE = 100 * 1024;\n",
              "\n",
              "function _uploadFiles(inputId, outputId) {\n",
              "  const steps = uploadFilesStep(inputId, outputId);\n",
              "  const outputElement = document.getElementById(outputId);\n",
              "  // Cache steps on the outputElement to make it available for the next call\n",
              "  // to uploadFilesContinue from Python.\n",
              "  outputElement.steps = steps;\n",
              "\n",
              "  return _uploadFilesContinue(outputId);\n",
              "}\n",
              "\n",
              "// This is roughly an async generator (not supported in the browser yet),\n",
              "// where there are multiple asynchronous steps and the Python side is going\n",
              "// to poll for completion of each step.\n",
              "// This uses a Promise to block the python side on completion of each step,\n",
              "// then passes the result of the previous step as the input to the next step.\n",
              "function _uploadFilesContinue(outputId) {\n",
              "  const outputElement = document.getElementById(outputId);\n",
              "  const steps = outputElement.steps;\n",
              "\n",
              "  const next = steps.next(outputElement.lastPromiseValue);\n",
              "  return Promise.resolve(next.value.promise).then((value) => {\n",
              "    // Cache the last promise value to make it available to the next\n",
              "    // step of the generator.\n",
              "    outputElement.lastPromiseValue = value;\n",
              "    return next.value.response;\n",
              "  });\n",
              "}\n",
              "\n",
              "/**\n",
              " * Generator function which is called between each async step of the upload\n",
              " * process.\n",
              " * @param {string} inputId Element ID of the input file picker element.\n",
              " * @param {string} outputId Element ID of the output display.\n",
              " * @return {!Iterable<!Object>} Iterable of next steps.\n",
              " */\n",
              "function* uploadFilesStep(inputId, outputId) {\n",
              "  const inputElement = document.getElementById(inputId);\n",
              "  inputElement.disabled = false;\n",
              "\n",
              "  const outputElement = document.getElementById(outputId);\n",
              "  outputElement.innerHTML = '';\n",
              "\n",
              "  const pickedPromise = new Promise((resolve) => {\n",
              "    inputElement.addEventListener('change', (e) => {\n",
              "      resolve(e.target.files);\n",
              "    });\n",
              "  });\n",
              "\n",
              "  const cancel = document.createElement('button');\n",
              "  inputElement.parentElement.appendChild(cancel);\n",
              "  cancel.textContent = 'Cancel upload';\n",
              "  const cancelPromise = new Promise((resolve) => {\n",
              "    cancel.onclick = () => {\n",
              "      resolve(null);\n",
              "    };\n",
              "  });\n",
              "\n",
              "  // Wait for the user to pick the files.\n",
              "  const files = yield {\n",
              "    promise: Promise.race([pickedPromise, cancelPromise]),\n",
              "    response: {\n",
              "      action: 'starting',\n",
              "    }\n",
              "  };\n",
              "\n",
              "  cancel.remove();\n",
              "\n",
              "  // Disable the input element since further picks are not allowed.\n",
              "  inputElement.disabled = true;\n",
              "\n",
              "  if (!files) {\n",
              "    return {\n",
              "      response: {\n",
              "        action: 'complete',\n",
              "      }\n",
              "    };\n",
              "  }\n",
              "\n",
              "  for (const file of files) {\n",
              "    const li = document.createElement('li');\n",
              "    li.append(span(file.name, {fontWeight: 'bold'}));\n",
              "    li.append(span(\n",
              "        `(${file.type || 'n/a'}) - ${file.size} bytes, ` +\n",
              "        `last modified: ${\n",
              "            file.lastModifiedDate ? file.lastModifiedDate.toLocaleDateString() :\n",
              "                                    'n/a'} - `));\n",
              "    const percent = span('0% done');\n",
              "    li.appendChild(percent);\n",
              "\n",
              "    outputElement.appendChild(li);\n",
              "\n",
              "    const fileDataPromise = new Promise((resolve) => {\n",
              "      const reader = new FileReader();\n",
              "      reader.onload = (e) => {\n",
              "        resolve(e.target.result);\n",
              "      };\n",
              "      reader.readAsArrayBuffer(file);\n",
              "    });\n",
              "    // Wait for the data to be ready.\n",
              "    let fileData = yield {\n",
              "      promise: fileDataPromise,\n",
              "      response: {\n",
              "        action: 'continue',\n",
              "      }\n",
              "    };\n",
              "\n",
              "    // Use a chunked sending to avoid message size limits. See b/62115660.\n",
              "    let position = 0;\n",
              "    do {\n",
              "      const length = Math.min(fileData.byteLength - position, MAX_PAYLOAD_SIZE);\n",
              "      const chunk = new Uint8Array(fileData, position, length);\n",
              "      position += length;\n",
              "\n",
              "      const base64 = btoa(String.fromCharCode.apply(null, chunk));\n",
              "      yield {\n",
              "        response: {\n",
              "          action: 'append',\n",
              "          file: file.name,\n",
              "          data: base64,\n",
              "        },\n",
              "      };\n",
              "\n",
              "      let percentDone = fileData.byteLength === 0 ?\n",
              "          100 :\n",
              "          Math.round((position / fileData.byteLength) * 100);\n",
              "      percent.textContent = `${percentDone}% done`;\n",
              "\n",
              "    } while (position < fileData.byteLength);\n",
              "  }\n",
              "\n",
              "  // All done.\n",
              "  yield {\n",
              "    response: {\n",
              "      action: 'complete',\n",
              "    }\n",
              "  };\n",
              "}\n",
              "\n",
              "scope.google = scope.google || {};\n",
              "scope.google.colab = scope.google.colab || {};\n",
              "scope.google.colab._files = {\n",
              "  _uploadFiles,\n",
              "  _uploadFilesContinue,\n",
              "};\n",
              "})(self);\n",
              "</script> "
            ]
          },
          "metadata": {}
        },
        {
          "output_type": "stream",
          "name": "stdout",
          "text": [
            "Saving fitbit_seq_dicts_study_14.pkl to fitbit_seq_dicts_study_14.pkl\n",
            "Saving fitbit_seq_dicts_sequence_14.pkl to fitbit_seq_dicts_sequence_14.pkl\n",
            "Saving fitbit_seq_dicts_sequence_7.pkl to fitbit_seq_dicts_sequence_7.pkl\n",
            "Saving fitbit_seq_dicts_study_7.pkl to fitbit_seq_dicts_study_7.pkl\n",
            "Saving fitbit_seq_dicts_impute_sequence_7.pkl to fitbit_seq_dicts_impute_sequence_7.pkl\n",
            "Saving fitbit_seq_dicts_impute_study_7.pkl to fitbit_seq_dicts_impute_study_7.pkl\n",
            "Saving fitbit_seq_dicts_impute_sequence_14.pkl to fitbit_seq_dicts_impute_sequence_14.pkl\n",
            "Saving fitbit_seq_dicts_impute_study_14.pkl to fitbit_seq_dicts_impute_study_14.pkl\n"
          ]
        }
      ],
      "id": "cGdPvmsNKuei"
    },
    {
      "cell_type": "code",
      "source": [
        "fitbit_seq_dicts_study_14 = load_pkl('/content/data/fitbit_seq_dicts_study_14.pkl')\n",
        "fitbit_seq_dicts_sequence_14 = load_pkl('/content/data/fitbit_seq_dicts_sequence_14.pkl')\n",
        "fitbit_seq_dicts_study_7 = load_pkl('/content/data/fitbit_seq_dicts_study_7.pkl')\n",
        "fitbit_seq_dicts_sequence_7 = load_pkl('/content/data/fitbit_seq_dicts_sequence_7.pkl')\n",
        "fitbit_seq_dicts_impute_sequence_7 = load_pkl('/content/data/fitbit_seq_dicts_impute_sequence_7.pkl')\n",
        "fitbit_seq_dicts_impute_study_7 = load_pkl('/content/data/fitbit_seq_dicts_impute_study_7.pkl')\n",
        "fitbit_seq_dicts_impute_sequence_14 = load_pkl('/content/data/fitbit_seq_dicts_impute_sequence_14.pkl')\n",
        "fitbit_seq_dicts_impute_study_14 = load_pkl('/content/data/fitbit_seq_dicts_impute_study_14.pkl')"
      ],
      "metadata": {
        "id": "hMOS8PWrf3ZH"
      },
      "id": "hMOS8PWrf3ZH",
      "execution_count": 44,
      "outputs": []
    },
    {
      "cell_type": "markdown",
      "source": [
        "## 2) Splitting Data"
      ],
      "metadata": {
        "id": "OMWKIYPElx7Q"
      },
      "id": "OMWKIYPElx7Q"
    },
    {
      "cell_type": "code",
      "source": [
        "splits = {'train': 0.6, 'val': 0.2, 'test': 0.2}"
      ],
      "metadata": {
        "id": "thjbTx76l5WW"
      },
      "id": "thjbTx76l5WW",
      "execution_count": 11,
      "outputs": []
    },
    {
      "cell_type": "markdown",
      "source": [
        "want to split with stratification"
      ],
      "metadata": {
        "id": "6VDDndExmNyN"
      },
      "id": "6VDDndExmNyN"
    },
    {
      "cell_type": "code",
      "source": [
        "def user_id_w_visit(fitbit_seq_dict):\n",
        "  visit_dict = {}\n",
        "  for fid, fid_dict in fitbit_seq_dict.items():\n",
        "        visit_count = 0\n",
        "        for wk, seqs_labels in fid_dict.items():\n",
        "            _, label = seqs_labels\n",
        "\n",
        "            if label == 1:\n",
        "                visit_count += 1\n",
        "        visit_dict[fid] = visit_count\n",
        "\n",
        "  visit_ids = []\n",
        "  for key, value in visit_dict.items():\n",
        "    if value > 0:\n",
        "      visit_ids.append(key)\n",
        "\n",
        "  return visit_ids"
      ],
      "metadata": {
        "id": "3BM20a_wmET2"
      },
      "id": "3BM20a_wmET2",
      "execution_count": 18,
      "outputs": []
    },
    {
      "cell_type": "code",
      "source": [
        "def train_test_val_split(id_list, splits):\n",
        "  id_count = len(id_list)\n",
        "\n",
        "  test_count = math.floor(id_count * splits['test'])\n",
        "  train_count = math.floor(id_count * splits['train'])\n",
        "  val_count = id_count - test_count - train_count\n",
        "\n",
        "  train_ids = random.sample(id_list, train_count)\n",
        "  remaining_ids = [id for id in id_list if id not in train_ids]\n",
        "  val_ids = random.sample(remaining_ids, val_count)\n",
        "  test_ids = [id for id in remaining_ids if id not in val_ids]\n",
        "\n",
        "  return train_ids, val_ids, test_ids"
      ],
      "metadata": {
        "id": "T4QH4b2XnuKX"
      },
      "id": "T4QH4b2XnuKX",
      "execution_count": 19,
      "outputs": []
    },
    {
      "cell_type": "code",
      "source": [
        "def get_splits(visit_ids, all_ids, splits):\n",
        "  train_ids_visit, val_ids_visit, test_ids_visit = train_test_val_split(visit_ids, splits)\n",
        "\n",
        "  remaining_ids = [id for id in all_ids if id not in visit_ids]\n",
        "\n",
        "  train_ids_novisit, val_ids_novisit, test_ids_novisit = train_test_val_split(remaining_ids, splits)\n",
        "\n",
        "  train_ids = train_ids_visit + train_ids_novisit\n",
        "  val_ids = val_ids_visit + val_ids_novisit\n",
        "  test_ids = test_ids_visit + test_ids_novisit\n",
        "\n",
        "  split_ids = {'train': train_ids, 'val': val_ids, 'test': test_ids}\n",
        "\n",
        "  return split_ids"
      ],
      "metadata": {
        "id": "e7d3TK5Omq1P"
      },
      "id": "e7d3TK5Omq1P",
      "execution_count": 20,
      "outputs": []
    },
    {
      "cell_type": "code",
      "source": [
        "vids_study_14 = user_id_w_visit(fitbit_seq_dicts_study_14)\n",
        "vids_sequence_14 = user_id_w_visit(fitbit_seq_dicts_sequence_14)\n",
        "vids_study_7 = user_id_w_visit(fitbit_seq_dicts_study_7)\n",
        "vids_sequence_7 = user_id_w_visit(fitbit_seq_dicts_sequence_7)\n",
        "vids_study_14_impute = user_id_w_visit(fitbit_seq_dicts_impute_study_14)\n",
        "vids_sequence_14_impute = user_id_w_visit(fitbit_seq_dicts_impute_sequence_14)\n",
        "vids_study_7_impute = user_id_w_visit(fitbit_seq_dicts_impute_study_7)\n",
        "vids_sequence_7_impute = user_id_w_visit(fitbit_seq_dicts_impute_sequence_7)"
      ],
      "metadata": {
        "id": "dz3tUmtctz0W"
      },
      "id": "dz3tUmtctz0W",
      "execution_count": 45,
      "outputs": []
    },
    {
      "cell_type": "code",
      "source": [
        "split_study_14 = get_splits(vids_study_14, fitbit_seq_dicts_study_14.keys(), splits)\n",
        "split_sequence_14 = get_splits(vids_sequence_14, fitbit_seq_dicts_sequence_14.keys(), splits)\n",
        "split_study_7 = get_splits(vids_study_7, fitbit_seq_dicts_study_7.keys(), splits)\n",
        "split_sequence_7 = get_splits(vids_sequence_7, fitbit_seq_dicts_sequence_7.keys(), splits)\n",
        "split_study_14_impute = get_splits(vids_study_14_impute, fitbit_seq_dicts_impute_study_14.keys(), splits)\n",
        "split_sequence_14_impute = get_splits(vids_sequence_14_impute, fitbit_seq_dicts_impute_sequence_14.keys(), splits)\n",
        "split_study_7_impute = get_splits(vids_study_7_impute, fitbit_seq_dicts_impute_study_7.keys(), splits)\n",
        "split_sequence_7_impute = get_splits(vids_sequence_7_impute, fitbit_seq_dicts_impute_sequence_7.keys(), splits)"
      ],
      "metadata": {
        "id": "B60rAe0iwwQp"
      },
      "id": "B60rAe0iwwQp",
      "execution_count": 46,
      "outputs": []
    },
    {
      "cell_type": "code",
      "source": [
        "save_pkl(split_study_14, '/content/data/split_study_14.pkl')\n",
        "save_pkl(split_sequence_14, '/content/data/split_sequence_14.pkl')\n",
        "save_pkl(split_study_7, '/content/data/split_study_7.pkl')\n",
        "save_pkl(split_sequence_7, '/content/data/split_sequence_7.pkl')\n",
        "save_pkl(split_study_14_impute, '/content/data/split_study_14_impute.pkl')\n",
        "save_pkl(split_sequence_14_impute, '/content/data/split_sequence_14_impute.pkl')\n",
        "save_pkl(split_study_7_impute, '/content/data/split_study_7_impute.pkl')\n",
        "save_pkl(split_sequence_7_impute, '/content/data/split_sequence_7_impute.pkl')\n",
        "\n",
        "files.download('/content/data/split_study_14.pkl')\n",
        "files.download('/content/data/split_sequence_14.pkl')\n",
        "files.download('/content/data/split_study_7.pkl')\n",
        "files.download('/content/data/split_sequence_7.pkl')\n",
        "files.download('/content/data/split_study_14_impute.pkl')\n",
        "files.download('/content/data/split_sequence_14_impute.pkl')\n",
        "files.download('/content/data/split_study_7_impute.pkl')\n",
        "files.download('/content/data/split_sequence_7_impute.pkl')"
      ],
      "metadata": {
        "id": "Xm7oa2oPxfs2",
        "outputId": "cccdec69-8dc3-426a-a89f-0079270b469a",
        "colab": {
          "base_uri": "https://localhost:8080/",
          "height": 17
        }
      },
      "id": "Xm7oa2oPxfs2",
      "execution_count": 24,
      "outputs": [
        {
          "output_type": "display_data",
          "data": {
            "text/plain": [
              "<IPython.core.display.Javascript object>"
            ],
            "application/javascript": [
              "\n",
              "    async function download(id, filename, size) {\n",
              "      if (!google.colab.kernel.accessAllowed) {\n",
              "        return;\n",
              "      }\n",
              "      const div = document.createElement('div');\n",
              "      const label = document.createElement('label');\n",
              "      label.textContent = `Downloading \"${filename}\": `;\n",
              "      div.appendChild(label);\n",
              "      const progress = document.createElement('progress');\n",
              "      progress.max = size;\n",
              "      div.appendChild(progress);\n",
              "      document.body.appendChild(div);\n",
              "\n",
              "      const buffers = [];\n",
              "      let downloaded = 0;\n",
              "\n",
              "      const channel = await google.colab.kernel.comms.open(id);\n",
              "      // Send a message to notify the kernel that we're ready.\n",
              "      channel.send({})\n",
              "\n",
              "      for await (const message of channel.messages) {\n",
              "        // Send a message to notify the kernel that we're ready.\n",
              "        channel.send({})\n",
              "        if (message.buffers) {\n",
              "          for (const buffer of message.buffers) {\n",
              "            buffers.push(buffer);\n",
              "            downloaded += buffer.byteLength;\n",
              "            progress.value = downloaded;\n",
              "          }\n",
              "        }\n",
              "      }\n",
              "      const blob = new Blob(buffers, {type: 'application/binary'});\n",
              "      const a = document.createElement('a');\n",
              "      a.href = window.URL.createObjectURL(blob);\n",
              "      a.download = filename;\n",
              "      div.appendChild(a);\n",
              "      a.click();\n",
              "      div.remove();\n",
              "    }\n",
              "  "
            ]
          },
          "metadata": {}
        },
        {
          "output_type": "display_data",
          "data": {
            "text/plain": [
              "<IPython.core.display.Javascript object>"
            ],
            "application/javascript": [
              "download(\"download_b5425e9d-d3df-487f-989b-e3b234038ee7\", \"split_study_14.pkl\", 587)"
            ]
          },
          "metadata": {}
        },
        {
          "output_type": "display_data",
          "data": {
            "text/plain": [
              "<IPython.core.display.Javascript object>"
            ],
            "application/javascript": [
              "\n",
              "    async function download(id, filename, size) {\n",
              "      if (!google.colab.kernel.accessAllowed) {\n",
              "        return;\n",
              "      }\n",
              "      const div = document.createElement('div');\n",
              "      const label = document.createElement('label');\n",
              "      label.textContent = `Downloading \"${filename}\": `;\n",
              "      div.appendChild(label);\n",
              "      const progress = document.createElement('progress');\n",
              "      progress.max = size;\n",
              "      div.appendChild(progress);\n",
              "      document.body.appendChild(div);\n",
              "\n",
              "      const buffers = [];\n",
              "      let downloaded = 0;\n",
              "\n",
              "      const channel = await google.colab.kernel.comms.open(id);\n",
              "      // Send a message to notify the kernel that we're ready.\n",
              "      channel.send({})\n",
              "\n",
              "      for await (const message of channel.messages) {\n",
              "        // Send a message to notify the kernel that we're ready.\n",
              "        channel.send({})\n",
              "        if (message.buffers) {\n",
              "          for (const buffer of message.buffers) {\n",
              "            buffers.push(buffer);\n",
              "            downloaded += buffer.byteLength;\n",
              "            progress.value = downloaded;\n",
              "          }\n",
              "        }\n",
              "      }\n",
              "      const blob = new Blob(buffers, {type: 'application/binary'});\n",
              "      const a = document.createElement('a');\n",
              "      a.href = window.URL.createObjectURL(blob);\n",
              "      a.download = filename;\n",
              "      div.appendChild(a);\n",
              "      a.click();\n",
              "      div.remove();\n",
              "    }\n",
              "  "
            ]
          },
          "metadata": {}
        },
        {
          "output_type": "display_data",
          "data": {
            "text/plain": [
              "<IPython.core.display.Javascript object>"
            ],
            "application/javascript": [
              "download(\"download_aa99dd91-1ab7-439a-b937-7eaf75abd7fb\", \"split_sequence_14.pkl\", 587)"
            ]
          },
          "metadata": {}
        },
        {
          "output_type": "display_data",
          "data": {
            "text/plain": [
              "<IPython.core.display.Javascript object>"
            ],
            "application/javascript": [
              "\n",
              "    async function download(id, filename, size) {\n",
              "      if (!google.colab.kernel.accessAllowed) {\n",
              "        return;\n",
              "      }\n",
              "      const div = document.createElement('div');\n",
              "      const label = document.createElement('label');\n",
              "      label.textContent = `Downloading \"${filename}\": `;\n",
              "      div.appendChild(label);\n",
              "      const progress = document.createElement('progress');\n",
              "      progress.max = size;\n",
              "      div.appendChild(progress);\n",
              "      document.body.appendChild(div);\n",
              "\n",
              "      const buffers = [];\n",
              "      let downloaded = 0;\n",
              "\n",
              "      const channel = await google.colab.kernel.comms.open(id);\n",
              "      // Send a message to notify the kernel that we're ready.\n",
              "      channel.send({})\n",
              "\n",
              "      for await (const message of channel.messages) {\n",
              "        // Send a message to notify the kernel that we're ready.\n",
              "        channel.send({})\n",
              "        if (message.buffers) {\n",
              "          for (const buffer of message.buffers) {\n",
              "            buffers.push(buffer);\n",
              "            downloaded += buffer.byteLength;\n",
              "            progress.value = downloaded;\n",
              "          }\n",
              "        }\n",
              "      }\n",
              "      const blob = new Blob(buffers, {type: 'application/binary'});\n",
              "      const a = document.createElement('a');\n",
              "      a.href = window.URL.createObjectURL(blob);\n",
              "      a.download = filename;\n",
              "      div.appendChild(a);\n",
              "      a.click();\n",
              "      div.remove();\n",
              "    }\n",
              "  "
            ]
          },
          "metadata": {}
        },
        {
          "output_type": "display_data",
          "data": {
            "text/plain": [
              "<IPython.core.display.Javascript object>"
            ],
            "application/javascript": [
              "download(\"download_0d45c146-e179-4ed5-ba23-de17be85fca8\", \"split_study_7.pkl\", 587)"
            ]
          },
          "metadata": {}
        },
        {
          "output_type": "display_data",
          "data": {
            "text/plain": [
              "<IPython.core.display.Javascript object>"
            ],
            "application/javascript": [
              "\n",
              "    async function download(id, filename, size) {\n",
              "      if (!google.colab.kernel.accessAllowed) {\n",
              "        return;\n",
              "      }\n",
              "      const div = document.createElement('div');\n",
              "      const label = document.createElement('label');\n",
              "      label.textContent = `Downloading \"${filename}\": `;\n",
              "      div.appendChild(label);\n",
              "      const progress = document.createElement('progress');\n",
              "      progress.max = size;\n",
              "      div.appendChild(progress);\n",
              "      document.body.appendChild(div);\n",
              "\n",
              "      const buffers = [];\n",
              "      let downloaded = 0;\n",
              "\n",
              "      const channel = await google.colab.kernel.comms.open(id);\n",
              "      // Send a message to notify the kernel that we're ready.\n",
              "      channel.send({})\n",
              "\n",
              "      for await (const message of channel.messages) {\n",
              "        // Send a message to notify the kernel that we're ready.\n",
              "        channel.send({})\n",
              "        if (message.buffers) {\n",
              "          for (const buffer of message.buffers) {\n",
              "            buffers.push(buffer);\n",
              "            downloaded += buffer.byteLength;\n",
              "            progress.value = downloaded;\n",
              "          }\n",
              "        }\n",
              "      }\n",
              "      const blob = new Blob(buffers, {type: 'application/binary'});\n",
              "      const a = document.createElement('a');\n",
              "      a.href = window.URL.createObjectURL(blob);\n",
              "      a.download = filename;\n",
              "      div.appendChild(a);\n",
              "      a.click();\n",
              "      div.remove();\n",
              "    }\n",
              "  "
            ]
          },
          "metadata": {}
        },
        {
          "output_type": "display_data",
          "data": {
            "text/plain": [
              "<IPython.core.display.Javascript object>"
            ],
            "application/javascript": [
              "download(\"download_a2fef51b-cec3-4061-a49b-2cbc654090b7\", \"split_sequence_7.pkl\", 587)"
            ]
          },
          "metadata": {}
        },
        {
          "output_type": "display_data",
          "data": {
            "text/plain": [
              "<IPython.core.display.Javascript object>"
            ],
            "application/javascript": [
              "\n",
              "    async function download(id, filename, size) {\n",
              "      if (!google.colab.kernel.accessAllowed) {\n",
              "        return;\n",
              "      }\n",
              "      const div = document.createElement('div');\n",
              "      const label = document.createElement('label');\n",
              "      label.textContent = `Downloading \"${filename}\": `;\n",
              "      div.appendChild(label);\n",
              "      const progress = document.createElement('progress');\n",
              "      progress.max = size;\n",
              "      div.appendChild(progress);\n",
              "      document.body.appendChild(div);\n",
              "\n",
              "      const buffers = [];\n",
              "      let downloaded = 0;\n",
              "\n",
              "      const channel = await google.colab.kernel.comms.open(id);\n",
              "      // Send a message to notify the kernel that we're ready.\n",
              "      channel.send({})\n",
              "\n",
              "      for await (const message of channel.messages) {\n",
              "        // Send a message to notify the kernel that we're ready.\n",
              "        channel.send({})\n",
              "        if (message.buffers) {\n",
              "          for (const buffer of message.buffers) {\n",
              "            buffers.push(buffer);\n",
              "            downloaded += buffer.byteLength;\n",
              "            progress.value = downloaded;\n",
              "          }\n",
              "        }\n",
              "      }\n",
              "      const blob = new Blob(buffers, {type: 'application/binary'});\n",
              "      const a = document.createElement('a');\n",
              "      a.href = window.URL.createObjectURL(blob);\n",
              "      a.download = filename;\n",
              "      div.appendChild(a);\n",
              "      a.click();\n",
              "      div.remove();\n",
              "    }\n",
              "  "
            ]
          },
          "metadata": {}
        },
        {
          "output_type": "display_data",
          "data": {
            "text/plain": [
              "<IPython.core.display.Javascript object>"
            ],
            "application/javascript": [
              "download(\"download_094a4230-c964-41af-ba02-ed73dedd9e6a\", \"split_study_14_impute.pkl\", 571)"
            ]
          },
          "metadata": {}
        },
        {
          "output_type": "display_data",
          "data": {
            "text/plain": [
              "<IPython.core.display.Javascript object>"
            ],
            "application/javascript": [
              "\n",
              "    async function download(id, filename, size) {\n",
              "      if (!google.colab.kernel.accessAllowed) {\n",
              "        return;\n",
              "      }\n",
              "      const div = document.createElement('div');\n",
              "      const label = document.createElement('label');\n",
              "      label.textContent = `Downloading \"${filename}\": `;\n",
              "      div.appendChild(label);\n",
              "      const progress = document.createElement('progress');\n",
              "      progress.max = size;\n",
              "      div.appendChild(progress);\n",
              "      document.body.appendChild(div);\n",
              "\n",
              "      const buffers = [];\n",
              "      let downloaded = 0;\n",
              "\n",
              "      const channel = await google.colab.kernel.comms.open(id);\n",
              "      // Send a message to notify the kernel that we're ready.\n",
              "      channel.send({})\n",
              "\n",
              "      for await (const message of channel.messages) {\n",
              "        // Send a message to notify the kernel that we're ready.\n",
              "        channel.send({})\n",
              "        if (message.buffers) {\n",
              "          for (const buffer of message.buffers) {\n",
              "            buffers.push(buffer);\n",
              "            downloaded += buffer.byteLength;\n",
              "            progress.value = downloaded;\n",
              "          }\n",
              "        }\n",
              "      }\n",
              "      const blob = new Blob(buffers, {type: 'application/binary'});\n",
              "      const a = document.createElement('a');\n",
              "      a.href = window.URL.createObjectURL(blob);\n",
              "      a.download = filename;\n",
              "      div.appendChild(a);\n",
              "      a.click();\n",
              "      div.remove();\n",
              "    }\n",
              "  "
            ]
          },
          "metadata": {}
        },
        {
          "output_type": "display_data",
          "data": {
            "text/plain": [
              "<IPython.core.display.Javascript object>"
            ],
            "application/javascript": [
              "download(\"download_28e4c5d0-f8bc-4bb1-bc01-9c100ff15a9e\", \"split_sequence_14_impute.pkl\", 571)"
            ]
          },
          "metadata": {}
        },
        {
          "output_type": "display_data",
          "data": {
            "text/plain": [
              "<IPython.core.display.Javascript object>"
            ],
            "application/javascript": [
              "\n",
              "    async function download(id, filename, size) {\n",
              "      if (!google.colab.kernel.accessAllowed) {\n",
              "        return;\n",
              "      }\n",
              "      const div = document.createElement('div');\n",
              "      const label = document.createElement('label');\n",
              "      label.textContent = `Downloading \"${filename}\": `;\n",
              "      div.appendChild(label);\n",
              "      const progress = document.createElement('progress');\n",
              "      progress.max = size;\n",
              "      div.appendChild(progress);\n",
              "      document.body.appendChild(div);\n",
              "\n",
              "      const buffers = [];\n",
              "      let downloaded = 0;\n",
              "\n",
              "      const channel = await google.colab.kernel.comms.open(id);\n",
              "      // Send a message to notify the kernel that we're ready.\n",
              "      channel.send({})\n",
              "\n",
              "      for await (const message of channel.messages) {\n",
              "        // Send a message to notify the kernel that we're ready.\n",
              "        channel.send({})\n",
              "        if (message.buffers) {\n",
              "          for (const buffer of message.buffers) {\n",
              "            buffers.push(buffer);\n",
              "            downloaded += buffer.byteLength;\n",
              "            progress.value = downloaded;\n",
              "          }\n",
              "        }\n",
              "      }\n",
              "      const blob = new Blob(buffers, {type: 'application/binary'});\n",
              "      const a = document.createElement('a');\n",
              "      a.href = window.URL.createObjectURL(blob);\n",
              "      a.download = filename;\n",
              "      div.appendChild(a);\n",
              "      a.click();\n",
              "      div.remove();\n",
              "    }\n",
              "  "
            ]
          },
          "metadata": {}
        },
        {
          "output_type": "display_data",
          "data": {
            "text/plain": [
              "<IPython.core.display.Javascript object>"
            ],
            "application/javascript": [
              "download(\"download_15324d60-ef4e-4b0d-8308-a20da010d473\", \"split_study_7_impute.pkl\", 571)"
            ]
          },
          "metadata": {}
        },
        {
          "output_type": "display_data",
          "data": {
            "text/plain": [
              "<IPython.core.display.Javascript object>"
            ],
            "application/javascript": [
              "\n",
              "    async function download(id, filename, size) {\n",
              "      if (!google.colab.kernel.accessAllowed) {\n",
              "        return;\n",
              "      }\n",
              "      const div = document.createElement('div');\n",
              "      const label = document.createElement('label');\n",
              "      label.textContent = `Downloading \"${filename}\": `;\n",
              "      div.appendChild(label);\n",
              "      const progress = document.createElement('progress');\n",
              "      progress.max = size;\n",
              "      div.appendChild(progress);\n",
              "      document.body.appendChild(div);\n",
              "\n",
              "      const buffers = [];\n",
              "      let downloaded = 0;\n",
              "\n",
              "      const channel = await google.colab.kernel.comms.open(id);\n",
              "      // Send a message to notify the kernel that we're ready.\n",
              "      channel.send({})\n",
              "\n",
              "      for await (const message of channel.messages) {\n",
              "        // Send a message to notify the kernel that we're ready.\n",
              "        channel.send({})\n",
              "        if (message.buffers) {\n",
              "          for (const buffer of message.buffers) {\n",
              "            buffers.push(buffer);\n",
              "            downloaded += buffer.byteLength;\n",
              "            progress.value = downloaded;\n",
              "          }\n",
              "        }\n",
              "      }\n",
              "      const blob = new Blob(buffers, {type: 'application/binary'});\n",
              "      const a = document.createElement('a');\n",
              "      a.href = window.URL.createObjectURL(blob);\n",
              "      a.download = filename;\n",
              "      div.appendChild(a);\n",
              "      a.click();\n",
              "      div.remove();\n",
              "    }\n",
              "  "
            ]
          },
          "metadata": {}
        },
        {
          "output_type": "display_data",
          "data": {
            "text/plain": [
              "<IPython.core.display.Javascript object>"
            ],
            "application/javascript": [
              "download(\"download_6b829290-dc6a-41c2-a0bb-f82107bade43\", \"split_sequence_7_impute.pkl\", 571)"
            ]
          },
          "metadata": {}
        }
      ]
    },
    {
      "cell_type": "markdown",
      "source": [
        "## 3) Standardize"
      ],
      "metadata": {
        "id": "r9ip_GmTzW2t"
      },
      "id": "r9ip_GmTzW2t"
    },
    {
      "cell_type": "code",
      "source": [
        "oh_features = ['diet_response_0.0', 'diet_response_1.0',\n",
        "       'diet_response_2.0', 'diet_response_nan', 'medication_response_0.0',\n",
        "       'medication_response_1.0', 'medication_response_2.0',\n",
        "       'medication_response_nan', 'symptoms_response_0.0',\n",
        "       'symptoms_response_1.0', 'symptoms_response_2.0',\n",
        "       'symptoms_response_nan']\n",
        "\n",
        "all_features = ['avgWeight_per_day','calories', 'heart', 'steps',\n",
        "        'minutes_asleep', 'minutes_awake', 'temp/skin_nightlyRelative',\n",
        "       'spo2_avg', 'spo2_min', 'spo2_max', 'hrv_dailyRmssd', 'hrv_deepRmssd',\n",
        "       'br_breathingRate', 'out_of_range_zone_cal', 'out_of_range_zone_max_hr',\n",
        "       'out_of_range_zone_min_hr', 'fat_burn_zone_cal', 'fat_burn_zone_max_hr',\n",
        "       'fat_burn_zone_min_hr', 'cardio_zone_cal', 'cardio_zone_max_hr',\n",
        "       'cardio_zone_min_hr', 'peak_zone_cal', 'peak_zone_max_hr',\n",
        "       'peak_zone_min_hr']\n",
        "\n",
        "base_features = ['calories', 'heart', 'steps']"
      ],
      "metadata": {
        "id": "G8h97WX64QDs"
      },
      "id": "G8h97WX64QDs",
      "execution_count": 47,
      "outputs": []
    },
    {
      "cell_type": "code",
      "source": [
        "def std_mean_values(train_ids, fitbit_seq_dict, scale_features, oh_features):\n",
        "\n",
        "  features = []\n",
        "  for id in train_ids:\n",
        "    id_dict = fitbit_seq_dict[id]\n",
        "    for key, value in id_dict.items():\n",
        "      features +=[value[0]]\n",
        "\n",
        "  features = pd.concat(features).reset_index(drop=True)\n",
        "\n",
        "  scaler = StandardScaler()\n",
        "  scaler.fit(features[scale_features])\n",
        "\n",
        "  scaling_vals = {}\n",
        "\n",
        "  for i in range(scaler.n_features_in_):\n",
        "    scaling_vals[scaler.feature_names_in_[i]] = (scaler.mean_[i], math.sqrt(scaler.var_[i]))\n",
        "\n",
        "    if scaler.var_[i] == 0:\n",
        "      print(scaler.feature_names_in_[i], ' has 0 variance')\n",
        "\n",
        "  for feature in oh_features:\n",
        "    scaling_vals[feature] = (0, 1)\n",
        "\n",
        "  return scaling_vals"
      ],
      "metadata": {
        "id": "mloWODvv2kJp"
      },
      "id": "mloWODvv2kJp",
      "execution_count": 60,
      "outputs": []
    },
    {
      "cell_type": "code",
      "source": [
        "print('study 7')\n",
        "scale_vals_study_7 = std_mean_values(split_study_7['train'], fitbit_seq_dicts_study_7, base_features, oh_features)\n",
        "print('study 14')\n"
      ],
      "metadata": {
        "id": "kKmgWHdk-pK4",
        "outputId": "49b17a56-fc4b-41b5-cf13-842f1ad7c256",
        "colab": {
          "base_uri": "https://localhost:8080/"
        }
      },
      "id": "kKmgWHdk-pK4",
      "execution_count": 61,
      "outputs": [
        {
          "output_type": "stream",
          "name": "stdout",
          "text": [
            "out_of_range_zone_min_hr  has 0 variance\n",
            "peak_zone_max_hr  has 0 variance\n"
          ]
        },
        {
          "output_type": "execute_result",
          "data": {
            "text/plain": [
              "{'avgWeight_per_day': (np.float64(193.16221681699545), 48.10347351542637),\n",
              " 'calories': (np.float64(2308.845700926487), 871.4303566963429),\n",
              " 'heart': (np.float64(65.40055004929687), 9.151380425660522),\n",
              " 'steps': (np.float64(5308.057927093255), 4032.7205961530067),\n",
              " 'minutes_asleep': (np.float64(384.35668901194987), 121.73522266454596),\n",
              " 'minutes_awake': (np.float64(55.15960361410667), 29.76762916585576),\n",
              " 'temp/skin_nightlyRelative': (np.float64(-0.009988132911392405),\n",
              "  0.7032791637306293),\n",
              " 'spo2_avg': (np.float64(94.76998664886516), 1.7431181871886932),\n",
              " 'spo2_min': (np.float64(92.43174899866489), 2.2571101154307702),\n",
              " 'spo2_max': (np.float64(97.01008010680908), 1.9323916209610486),\n",
              " 'hrv_dailyRmssd': (np.float64(24.288858029733703), 24.766013167259818),\n",
              " 'hrv_deepRmssd': (np.float64(27.390429504982844), 39.690533153290566),\n",
              " 'br_breathingRate': (np.float64(15.272767658818303), 2.569337066640044),\n",
              " 'out_of_range_zone_cal': (np.float64(2131.836941163709), 795.0725468506674),\n",
              " 'out_of_range_zone_max_hr': (np.float64(100.77988458367683),\n",
              "  7.472674377102568),\n",
              " 'out_of_range_zone_min_hr': (np.float64(30.0), 0.0),\n",
              " 'fat_burn_zone_cal': (np.float64(125.87863158024903), 192.240041950987),\n",
              " 'fat_burn_zone_max_hr': (np.float64(118.64637479932313), 7.566726227262761),\n",
              " 'fat_burn_zone_min_hr': (np.float64(100.77988458367683), 7.472674377102568),\n",
              " 'cardio_zone_cal': (np.float64(32.66637575519591), 93.69909573145695),\n",
              " 'cardio_zone_max_hr': (np.float64(140.88584197509437), 9.018343903397447),\n",
              " 'cardio_zone_min_hr': (np.float64(118.64637479932313), 7.566726227262761),\n",
              " 'peak_zone_cal': (np.float64(6.826978141189743), 42.76428988850403),\n",
              " 'peak_zone_max_hr': (np.float64(220.0), 0.0),\n",
              " 'peak_zone_min_hr': (np.float64(140.88584197509437), 9.018343903397447),\n",
              " 'diet_response_0.0': (0, 1),\n",
              " 'diet_response_1.0': (0, 1),\n",
              " 'diet_response_2.0': (0, 1),\n",
              " 'diet_response_nan': (0, 1),\n",
              " 'medication_response_0.0': (0, 1),\n",
              " 'medication_response_1.0': (0, 1),\n",
              " 'medication_response_2.0': (0, 1),\n",
              " 'medication_response_nan': (0, 1),\n",
              " 'symptoms_response_0.0': (0, 1),\n",
              " 'symptoms_response_1.0': (0, 1),\n",
              " 'symptoms_response_2.0': (0, 1),\n",
              " 'symptoms_response_nan': (0, 1)}"
            ]
          },
          "metadata": {},
          "execution_count": 61
        }
      ]
    }
  ],
  "metadata": {
    "language_info": {
      "name": "python"
    },
    "colab": {
      "provenance": []
    },
    "kernelspec": {
      "name": "python3",
      "display_name": "Python 3"
    }
  },
  "nbformat": 4,
  "nbformat_minor": 5
}